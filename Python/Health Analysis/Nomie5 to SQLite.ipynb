{
 "cells": [
  {
   "cell_type": "code",
   "execution_count": 1,
   "id": "a1dfba04",
   "metadata": {},
   "outputs": [],
   "source": [
    "import pandas as pd\n",
    "from IPython.display import display\n",
    "import sqlite3\n",
    "import pprint\n",
    "import re\n",
    "import json\n",
    "import datetime\n",
    "\n",
    "raw_data_path = r\"C:\\Users\\natha\\iCloudDrive\\Health\\nomie_export\\nomie-5.6.4-2023-01-10-15_23.json\""
   ]
  },
  {
   "cell_type": "code",
   "execution_count": 2,
   "id": "1c336f49",
   "metadata": {},
   "outputs": [
    {
     "name": "stdout",
     "output_type": "stream",
     "text": [
      "             _id                note            end          start  score  \\\n",
      "0     a42c0adde0  #sleep_quality(93)  1645971808544  1645971807544      1   \n",
      "1     37bdf1c3fd      #caffeine(550)  1645971816012  1645971815012      0   \n",
      "2     0136cb75ae             #pooped  1645981062084  1645981061084      0   \n",
      "3     b1d040bc43        #anxiety_med  1645993719008  1645993718008      0   \n",
      "4     016ccbf388        #anxiety_med  1645993720508  1645993719508      0   \n",
      "...          ...                 ...            ...            ...    ...   \n",
      "2137  9b6a8f8864             #pooped  1673319985380  1673319984380      0   \n",
      "2138  1e67ef7454  #sleep_quality(67)  1673356142034  1673356141034      1   \n",
      "2139  a19169e9a1             #pooped  1673356143419  1673356142419      0   \n",
      "2140  47fb59f600             #pooped  1673367139613  1673367138613      0   \n",
      "2141  fe0399a189      #caffeine(750)  1673367144554  1673367143554      0   \n",
      "\n",
      "       lat   lng location  offset modified source  \n",
      "0     None  None              300    False     n5  \n",
      "1     None  None              300    False     n5  \n",
      "2     None  None              300    False     n5  \n",
      "3     None  None              300    False     n5  \n",
      "4     None  None              300    False     n5  \n",
      "...    ...   ...      ...     ...      ...    ...  \n",
      "2137  None  None              300    False     n5  \n",
      "2138  None  None              300    False     n5  \n",
      "2139  None  None              300    False     n5  \n",
      "2140  None  None              300    False     n5  \n",
      "2141  None  None              300    False     n5  \n",
      "\n",
      "[2142 rows x 11 columns]\n"
     ]
    }
   ],
   "source": [
    "with open(raw_data_path) as json_file:\n",
    "    data = json.load(json_file)\n",
    "    df = pd.DataFrame(data[\"events\"])\n",
    "\n",
    "print(df)"
   ]
  },
  {
   "cell_type": "code",
   "execution_count": 3,
   "id": "7ecc70f1",
   "metadata": {},
   "outputs": [],
   "source": [
    "# # Format and make one of each date\n",
    "# dates = set()\n",
    "# for datetimestamp in df[\"start\"]:\n",
    "#     date = datetime.date.fromtimestamp(datetimestamp / 1e3).strftime('%Y-%m-%d')\n",
    "#     if date:\n",
    "#         dates.add(date)\n",
    "# #         print(date.group())\n",
    "\n",
    "# sorted_dates = sorted(dates)\n",
    "# pprint.pprint(sorted_dates)"
   ]
  },
  {
   "cell_type": "code",
   "execution_count": 4,
   "id": "fe65e3d1",
   "metadata": {},
   "outputs": [
    {
     "data": {
      "text/html": [
       "<div>\n",
       "<style scoped>\n",
       "    .dataframe tbody tr th:only-of-type {\n",
       "        vertical-align: middle;\n",
       "    }\n",
       "\n",
       "    .dataframe tbody tr th {\n",
       "        vertical-align: top;\n",
       "    }\n",
       "\n",
       "    .dataframe thead th {\n",
       "        text-align: right;\n",
       "    }\n",
       "</style>\n",
       "<table border=\"1\" class=\"dataframe\">\n",
       "  <thead>\n",
       "    <tr style=\"text-align: right;\">\n",
       "      <th></th>\n",
       "      <th>note</th>\n",
       "      <th>date</th>\n",
       "      <th>val</th>\n",
       "    </tr>\n",
       "  </thead>\n",
       "  <tbody>\n",
       "    <tr>\n",
       "      <th>0</th>\n",
       "      <td>sleep</td>\n",
       "      <td>2022-02-27</td>\n",
       "      <td>93</td>\n",
       "    </tr>\n",
       "    <tr>\n",
       "      <th>1</th>\n",
       "      <td>caffeine</td>\n",
       "      <td>2022-02-27</td>\n",
       "      <td>550</td>\n",
       "    </tr>\n",
       "    <tr>\n",
       "      <th>2</th>\n",
       "      <td>pooped</td>\n",
       "      <td>2022-02-27</td>\n",
       "      <td>NaN</td>\n",
       "    </tr>\n",
       "    <tr>\n",
       "      <th>3</th>\n",
       "      <td>anxiety</td>\n",
       "      <td>2022-02-27</td>\n",
       "      <td>NaN</td>\n",
       "    </tr>\n",
       "    <tr>\n",
       "      <th>4</th>\n",
       "      <td>anxiety</td>\n",
       "      <td>2022-02-27</td>\n",
       "      <td>NaN</td>\n",
       "    </tr>\n",
       "    <tr>\n",
       "      <th>...</th>\n",
       "      <td>...</td>\n",
       "      <td>...</td>\n",
       "      <td>...</td>\n",
       "    </tr>\n",
       "    <tr>\n",
       "      <th>2137</th>\n",
       "      <td>pooped</td>\n",
       "      <td>2023-01-10</td>\n",
       "      <td>NaN</td>\n",
       "    </tr>\n",
       "    <tr>\n",
       "      <th>2138</th>\n",
       "      <td>sleep</td>\n",
       "      <td>2023-01-10</td>\n",
       "      <td>67</td>\n",
       "    </tr>\n",
       "    <tr>\n",
       "      <th>2139</th>\n",
       "      <td>pooped</td>\n",
       "      <td>2023-01-10</td>\n",
       "      <td>NaN</td>\n",
       "    </tr>\n",
       "    <tr>\n",
       "      <th>2140</th>\n",
       "      <td>pooped</td>\n",
       "      <td>2023-01-10</td>\n",
       "      <td>NaN</td>\n",
       "    </tr>\n",
       "    <tr>\n",
       "      <th>2141</th>\n",
       "      <td>caffeine</td>\n",
       "      <td>2023-01-10</td>\n",
       "      <td>750</td>\n",
       "    </tr>\n",
       "  </tbody>\n",
       "</table>\n",
       "<p>2142 rows × 3 columns</p>\n",
       "</div>"
      ],
      "text/plain": [
       "          note        date  val\n",
       "0        sleep  2022-02-27   93\n",
       "1     caffeine  2022-02-27  550\n",
       "2       pooped  2022-02-27  NaN\n",
       "3      anxiety  2022-02-27  NaN\n",
       "4      anxiety  2022-02-27  NaN\n",
       "...        ...         ...  ...\n",
       "2137    pooped  2023-01-10  NaN\n",
       "2138     sleep  2023-01-10   67\n",
       "2139    pooped  2023-01-10  NaN\n",
       "2140    pooped  2023-01-10  NaN\n",
       "2141  caffeine  2023-01-10  750\n",
       "\n",
       "[2142 rows x 3 columns]"
      ]
     },
     "metadata": {},
     "output_type": "display_data"
    }
   ],
   "source": [
    "# Setup an empty master dataframe\n",
    "mod_data = pd.DataFrame()\n",
    "mod_data = df\n",
    "\n",
    "mod_data[\"date\"] = pd.to_datetime(df[\"start\"], unit=\"ms\").dt.strftime(\"%Y-%m-%d\")\n",
    "mod_data[\"val\"] = df[\"note\"].str.extract(\"(\\d+)\")\n",
    "mod_data[\"note\"] = df[\"note\"].str.extract(\"([a-z]+)\")\n",
    "\n",
    "# print(pd.to_datetime(df[\"start\"], unit=\"ms\").dt.strftime(\"%Y-%m-%d\"))\n",
    "\n",
    "\n",
    "#mod_data[\"date\"] = all_data[\"start\"].to_datetime()\n",
    "mod_data = df.drop(columns=['_id', 'start', 'end', 'score', 'lat', 'lng', 'location', 'offset', 'modified', 'source'])\n",
    "\n",
    "display(mod_data)"
   ]
  },
  {
   "cell_type": "code",
   "execution_count": 5,
   "id": "973d00e9",
   "metadata": {},
   "outputs": [
    {
     "name": "stdout",
     "output_type": "stream",
     "text": [
      "done\n"
     ]
    }
   ],
   "source": [
    "healthdb = sqlite3.connect('HealthDB.db')\n",
    "cur = healthdb.cursor()\n",
    "\n",
    "cur.execute(\"DROP TABLE IF EXISTS nomie5\")\n",
    "\n",
    "mod_data.to_sql(name='nomie5', con=healthdb)\n",
    "print(\"done\")"
   ]
  }
 ],
 "metadata": {
  "kernelspec": {
   "display_name": "Python 3 (ipykernel)",
   "language": "python",
   "name": "python3"
  },
  "language_info": {
   "codemirror_mode": {
    "name": "ipython",
    "version": 3
   },
   "file_extension": ".py",
   "mimetype": "text/x-python",
   "name": "python",
   "nbconvert_exporter": "python",
   "pygments_lexer": "ipython3",
   "version": "3.10.11"
  }
 },
 "nbformat": 4,
 "nbformat_minor": 5
}
