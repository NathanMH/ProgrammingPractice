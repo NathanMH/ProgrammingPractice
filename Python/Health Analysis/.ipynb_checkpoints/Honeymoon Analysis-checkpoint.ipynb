{
 "cells": [
  {
   "cell_type": "code",
   "execution_count": 167,
   "id": "0c7dea4f",
   "metadata": {},
   "outputs": [],
   "source": [
    "import pandas as pd\n",
    "import matplotlib.pyplot as plt\n",
    "from IPython.display import display\n",
    "import time\n",
    "import math\n",
    "import re\n",
    "\n",
    "raw_data_path = r\"C:\\Users\\natha\\iCloudDrive\\Health\\nomie_export\\n6.2.0-2023-05-18-11.json\""
   ]
  },
  {
   "cell_type": "code",
   "execution_count": 168,
   "id": "fb73464f",
   "metadata": {},
   "outputs": [],
   "source": [
    "df = pd.read_json(raw_data_path)\n",
    "#display(df)"
   ]
  },
  {
   "cell_type": "code",
   "execution_count": 169,
   "id": "c894a87a",
   "metadata": {},
   "outputs": [
    {
     "name": "stdout",
     "output_type": "stream",
     "text": [
      "              note                     start        date\n",
      "7       #sleep(83)  2023-04-21T13:27:56.362Z  2023-04-21\n",
      "8     #anxiety_med  2023-04-21T13:28:06.961Z  2023-04-21\n",
      "9        #walk(18)  2023-04-21T16:52:10.352Z  2023-04-21\n",
      "10           #read  2023-04-21T16:52:15.952Z  2023-04-21\n",
      "11  #caffeine(350)  2023-04-21T22:42:59.463Z  2023-04-21\n",
      "..             ...                       ...         ...\n",
      "31       #walk(19)  2023-05-12T17:28:59.000Z  2023-05-12\n",
      "32       #walk(21)  2023-05-13T17:28:59.000Z  2023-05-13\n",
      "33     #walk(22.5)  2023-05-14T17:28:59.000Z  2023-05-14\n",
      "34        #walk(9)  2023-05-15T17:29:59.000Z  2023-05-15\n",
      "35      #walk(4.5)  2023-05-16T17:29:59.000Z  2023-05-16\n",
      "\n",
      "[155 rows x 3 columns]\n",
      "        note                     start        date  val\n",
      "7      sleep  2023-04-21T13:27:56.362Z  2023-04-21   83\n",
      "8    anxiety  2023-04-21T13:28:06.961Z  2023-04-21  NaN\n",
      "9       walk  2023-04-21T16:52:10.352Z  2023-04-21   18\n",
      "10      read  2023-04-21T16:52:15.952Z  2023-04-21  NaN\n",
      "11  caffeine  2023-04-21T22:42:59.463Z  2023-04-21  350\n",
      "..       ...                       ...         ...  ...\n",
      "31      walk  2023-05-12T17:28:59.000Z  2023-05-12   19\n",
      "32      walk  2023-05-13T17:28:59.000Z  2023-05-13   21\n",
      "33      walk  2023-05-14T17:28:59.000Z  2023-05-14   22\n",
      "34      walk  2023-05-15T17:29:59.000Z  2023-05-15    9\n",
      "35      walk  2023-05-16T17:29:59.000Z  2023-05-16    4\n",
      "\n",
      "[155 rows x 4 columns]\n"
     ]
    }
   ],
   "source": [
    "# Read json - every 10 days is a 'book'\n",
    "apr_20_29 = pd.json_normalize(df[\"files\"][\"data/books/2023-04-2\"])\n",
    "apr_30_30 = pd.json_normalize(df[\"files\"][\"data/books/2023-04-3\"])\n",
    "may_01_09 = pd.json_normalize(df[\"files\"][\"data/books/2023-05-0\"])\n",
    "may_10_19 = pd.json_normalize(df[\"files\"][\"data/books/2023-05-1\"])\n",
    "\n",
    "# Merge multiple 'books' into a single dataframe\n",
    "apr = pd.concat([apr_20_29, apr_30_30])\n",
    "may = pd.concat([may_01_09, may_10_19])\n",
    "\n",
    "# Reformat the date to be usable\n",
    "aprmay = pd.concat([apr[['note', 'start']], may[['note', 'start']]])\n",
    "aprmay['date'] = pd.to_datetime(aprmay['start']).dt.strftime('%Y-%m-%d')\n",
    "\n",
    "\n",
    "# Honeymoon dates\n",
    "honeymoon = aprmay[aprmay['date'].between('2023-04-21', '2023-05-16')]\n",
    "print(honeymoon)\n",
    "\n",
    "# Suppress SettingWithCopy error\n",
    "pd.options.mode.chained_assignment = None\n",
    "# Split note into type and amount (where applicable)\n",
    "honeymoon['val'] = honeymoon['note'].str.extract('(\\d+)')\n",
    "honeymoon['note'] = honeymoon['note'].str.extract('([a-z]+)')\n",
    "\n",
    "print(honeymoon)"
   ]
  },
  {
   "cell_type": "code",
   "execution_count": 170,
   "id": "bd60f0cf",
   "metadata": {},
   "outputs": [],
   "source": [
    "# Make the val column into integer (not working, but set as float due to NaN)\n",
    "honeymoon['val'] = pd.to_numeric(honeymoon['val'], downcast='integer')"
   ]
  },
  {
   "cell_type": "code",
   "execution_count": 188,
   "id": "96d15e00",
   "metadata": {},
   "outputs": [],
   "source": [
    "all_dates = honeymoon['date'].drop_duplicates()\n",
    "#print(all_dates)"
   ]
  },
  {
   "cell_type": "code",
   "execution_count": 171,
   "id": "b5814eae",
   "metadata": {},
   "outputs": [],
   "source": [
    "honeymoon.to_csv(r\"C:\\Users\\natha\\iCloudDrive\\Health\\nomie_export\\honeymoon.csv\")"
   ]
  },
  {
   "cell_type": "code",
   "execution_count": 172,
   "id": "876e285f",
   "metadata": {},
   "outputs": [
    {
     "data": {
      "text/html": [
       "<div>\n",
       "<style scoped>\n",
       "    .dataframe tbody tr th:only-of-type {\n",
       "        vertical-align: middle;\n",
       "    }\n",
       "\n",
       "    .dataframe tbody tr th {\n",
       "        vertical-align: top;\n",
       "    }\n",
       "\n",
       "    .dataframe thead th {\n",
       "        text-align: right;\n",
       "    }\n",
       "</style>\n",
       "<table border=\"1\" class=\"dataframe\">\n",
       "  <thead>\n",
       "    <tr style=\"text-align: right;\">\n",
       "      <th></th>\n",
       "      <th>date</th>\n",
       "    </tr>\n",
       "    <tr>\n",
       "      <th>note</th>\n",
       "      <th></th>\n",
       "    </tr>\n",
       "  </thead>\n",
       "  <tbody>\n",
       "    <tr>\n",
       "      <th>advil</th>\n",
       "      <td>4</td>\n",
       "    </tr>\n",
       "    <tr>\n",
       "      <th>alcohol</th>\n",
       "      <td>19</td>\n",
       "    </tr>\n",
       "    <tr>\n",
       "      <th>anxiety</th>\n",
       "      <td>10</td>\n",
       "    </tr>\n",
       "    <tr>\n",
       "      <th>caffeine</th>\n",
       "      <td>14</td>\n",
       "    </tr>\n",
       "    <tr>\n",
       "      <th>nap</th>\n",
       "      <td>2</td>\n",
       "    </tr>\n",
       "    <tr>\n",
       "      <th>pooped</th>\n",
       "      <td>34</td>\n",
       "    </tr>\n",
       "    <tr>\n",
       "      <th>read</th>\n",
       "      <td>14</td>\n",
       "    </tr>\n",
       "    <tr>\n",
       "      <th>sex</th>\n",
       "      <td>6</td>\n",
       "    </tr>\n",
       "    <tr>\n",
       "      <th>sleep</th>\n",
       "      <td>26</td>\n",
       "    </tr>\n",
       "    <tr>\n",
       "      <th>walk</th>\n",
       "      <td>26</td>\n",
       "    </tr>\n",
       "  </tbody>\n",
       "</table>\n",
       "</div>"
      ],
      "text/plain": [
       "          date\n",
       "note          \n",
       "advil        4\n",
       "alcohol     19\n",
       "anxiety     10\n",
       "caffeine    14\n",
       "nap          2\n",
       "pooped      34\n",
       "read        14\n",
       "sex          6\n",
       "sleep       26\n",
       "walk        26"
      ]
     },
     "execution_count": 172,
     "metadata": {},
     "output_type": "execute_result"
    }
   ],
   "source": [
    "# Generic count of each note, only useful for binary 1 time actions ie. read\n",
    "honeymoon[['note', 'date']].groupby('note').count()"
   ]
  },
  {
   "cell_type": "code",
   "execution_count": 173,
   "id": "5c0d5e9e",
   "metadata": {},
   "outputs": [
    {
     "name": "stdout",
     "output_type": "stream",
     "text": [
      "Total caffeine intake: 4055.0\n",
      "Total caffeine intake: 4055.0\n"
     ]
    }
   ],
   "source": [
    "# Two different ways of getting sums\n",
    "print(\"Total caffeine intake: \" + str(honeymoon[honeymoon['note'] == 'caffeine']['val'].sum()))\n",
    "print(\"Total caffeine intake: \" + str(honeymoon.loc[honeymoon['note'] == 'caffeine', 'val'].sum()))"
   ]
  },
  {
   "cell_type": "code",
   "execution_count": 174,
   "id": "b0b7cceb",
   "metadata": {},
   "outputs": [
    {
     "name": "stdout",
     "output_type": "stream",
     "text": [
      "        note                     start        date    val\n",
      "7      sleep  2023-04-21T13:27:56.362Z  2023-04-21   83.0\n",
      "8    anxiety  2023-04-21T13:28:06.961Z  2023-04-21    NaN\n",
      "9       walk  2023-04-21T16:52:10.352Z  2023-04-21   18.0\n",
      "10      read  2023-04-21T16:52:15.952Z  2023-04-21    NaN\n",
      "11  caffeine  2023-04-21T22:42:59.463Z  2023-04-21  350.0\n",
      "       note                     start        date   val\n",
      "12  alcohol  2023-04-22T01:15:26.734Z  2023-04-22   NaN\n",
      "13   pooped  2023-04-22T13:52:59.000Z  2023-04-22   NaN\n",
      "14   pooped  2023-04-22T13:52:59.000Z  2023-04-22   NaN\n",
      "28    sleep  2023-04-22T13:54:59.000Z  2023-04-22  13.0\n",
      "36  alcohol  2023-04-22T13:57:59.000Z  2023-04-22   NaN\n",
      "57     read  2023-04-22T14:02:59.000Z  2023-04-22   NaN\n",
      "60     walk  2023-04-22T17:22:59.000Z  2023-04-22  13.0\n"
     ]
    }
   ],
   "source": [
    "# Individual day info\n",
    "#day1 = honeymoon[honeymoon['date'] == '2023-04-21']\n",
    "#print(day1)\n",
    "\n",
    "#day2 = honeymoon[honeymoon['date'] == '2023-04-22']\n",
    "#print(day2)"
   ]
  },
  {
   "cell_type": "code",
   "execution_count": 211,
   "id": "220ec958",
   "metadata": {},
   "outputs": [
    {
     "name": "stdout",
     "output_type": "stream",
     "text": [
      "AxesSubplot(0.125,0.125;0.775x0.755)\n"
     ]
    },
    {
     "data": {
      "image/png": "[encoded data removed]",
      "text/plain": [
       "<Figure size 1080x360 with 1 Axes>"
      ]
     },
     "metadata": {
      "needs_background": "light"
     },
     "output_type": "display_data"
    }
   ],
   "source": [
    "# Chart caffeine per day\n",
    "caffeine = honeymoon[honeymoon['note'] == 'caffeine']\n",
    "\n",
    "# Add all dates for honeymoon with NaN for missing days\n",
    "dates_plus_caffeine = pd.merge(all_dates, caffeine, how=\"left\", on=['date'])\n",
    "#print(dates_plus_caffeine)\n",
    "\n",
    "#caffeine.set_index('date').groupby('note')['val'].plot(legend=True, rot=45, kind='bar')\n",
    "#dates_plus_caffeine[['date', 'val']].plot(rot=45, kind='bar', figsize=(15,5))\n",
    "\n",
    "\n",
    "print(dates_plus_caffeine[['date', 'val']].plot(x='date', rot=45, kind='bar', figsize=(15,5)))"
   ]
  },
  {
   "cell_type": "code",
   "execution_count": 186,
   "id": "cabca36b",
   "metadata": {},
   "outputs": [],
   "source": [
    "# Replace NaN with integer because there is no 'val' for this tracker\n",
    "pooped = honeymoon[honeymoon['note'] == 'pooped']\n",
    "pooped = pooped[['date', 'note', 'val']].fillna(1)\n",
    "#print(pooped)\n",
    "#print(pooped[['date', 'note']].groupby('date').count())\n",
    "\n",
    "# Plot just pooped dates\n",
    "#pooped[['date', 'note']].groupby('date').count().plot(rot=45, kind='bar', figsize=(15,5))"
   ]
  },
  {
   "cell_type": "code",
   "execution_count": 189,
   "id": "7c3c4b50",
   "metadata": {},
   "outputs": [
    {
     "data": {
      "text/plain": [
       "<AxesSubplot: xlabel='date'>"
      ]
     },
     "execution_count": 189,
     "metadata": {},
     "output_type": "execute_result"
    },
    {
     "data": {
      "image/png": "[encoded data removed]",
      "text/plain": [
       "<Figure size 1080x360 with 1 Axes>"
      ]
     },
     "metadata": {
      "needs_background": "light"
     },
     "output_type": "display_data"
    }
   ],
   "source": [
    "# Add 0 for any day without a #pooped note\n",
    "dates_plus_pooped = pd.merge(all_dates, pooped, how=\"left\", on=['date'])\n",
    "#print(dates_plus_pooped.fillna(0)) # Is fillna not needed?\n",
    "#print(dates_plus_pooped)\n",
    "dates_plus_pooped[['date', 'note']].groupby('date').count().plot(rot=45, kind='bar', figsize=(15,5))"
   ]
  },
  {
   "cell_type": "code",
   "execution_count": 178,
   "id": "b7436b04",
   "metadata": {},
   "outputs": [],
   "source": [
    "\n",
    "#print(honeymoon['note'].mean())\n",
    "#print(df['#pooped'].mean())\n",
    "#print(df['#advil'].sum())\n",
    "#print(df['#walk'].max())\n",
    "\n",
    "#honeymoon[['note', 'start']].groupby('note').count().plot()"
   ]
  },
  {
   "cell_type": "code",
   "execution_count": null,
   "id": "2375f442",
   "metadata": {},
   "outputs": [],
   "source": []
  },
  {
   "cell_type": "code",
   "execution_count": null,
   "id": "fff8398f",
   "metadata": {},
   "outputs": [],
   "source": []
  }
 ],
 "metadata": {
  "kernelspec": {
   "display_name": "Python 3 (ipykernel)",
   "language": "python",
   "name": "python3"
  },
  "language_info": {
   "codemirror_mode": {
    "name": "ipython",
    "version": 3
   },
   "file_extension": ".py",
   "mimetype": "text/x-python",
   "name": "python",
   "nbconvert_exporter": "python",
   "pygments_lexer": "ipython3",
   "version": "3.10.11"
  }
 },
 "nbformat": 4,
 "nbformat_minor": 5
}
